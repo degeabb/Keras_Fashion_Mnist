{
 "cells": [
  {
   "cell_type": "markdown",
   "id": "af33073e",
   "metadata": {},
   "source": [
    "# Sequential Fashion Mnist"
   ]
  },
  {
   "cell_type": "code",
   "execution_count": 27,
   "id": "d98660de",
   "metadata": {},
   "outputs": [],
   "source": [
    "from __future__ import print_function \n",
    "import keras \n",
    "from keras.datasets import fashion_mnist \n",
    "from keras.models import Sequential \n",
    "from keras.layers import Dense, Dropout, Flatten\n",
    "from keras.layers import Conv2D, MaxPooling2D\n",
    "from keras import backend as K"
   ]
  },
  {
   "cell_type": "code",
   "execution_count": 28,
   "id": "c62f5cef",
   "metadata": {},
   "outputs": [],
   "source": [
    "# Number of classes\n",
    "\n",
    "num_class = 10"
   ]
  },
  {
   "cell_type": "code",
   "execution_count": 29,
   "id": "df982707",
   "metadata": {},
   "outputs": [],
   "source": [
    "batch_size = 128\n",
    "epochs = 24"
   ]
  },
  {
   "cell_type": "code",
   "execution_count": 30,
   "id": "d64e3ba0",
   "metadata": {},
   "outputs": [],
   "source": [
    "img_rows, img_cols = 28, 28"
   ]
  },
  {
   "cell_type": "code",
   "execution_count": 31,
   "id": "af06e802",
   "metadata": {},
   "outputs": [],
   "source": [
    "(X_train, y_train), (X_test, y_test) = fashion_mnist.load_data()"
   ]
  },
  {
   "cell_type": "code",
   "execution_count": 32,
   "id": "e42bdd9b",
   "metadata": {},
   "outputs": [],
   "source": [
    "# Confirm works for any backend"
   ]
  },
  {
   "cell_type": "code",
   "execution_count": 33,
   "id": "2ee4d73d",
   "metadata": {},
   "outputs": [],
   "source": [
    "if K.image_data_format() == 'channels_first':\n",
    "    X_train = X_train.reshape(X_train.shape[0], 1, img_rows, img_cols)\n",
    "    X_test = X_test.reshape(X_test.shape[0], 1, img_rows, img_cols)\n",
    "    input_shape = (1, img_rows, img_cols)\n",
    "    \n",
    "else:\n",
    "    X_train = X_train.reshape(X_train.shape[0], img_rows, img_cols, 1)\n",
    "    X_test = X_test.reshape(X_test.shape[0], img_rows, img_cols, 1)\n",
    "    input_shape = (img_rows, img_cols, 1)"
   ]
  },
  {
   "cell_type": "code",
   "execution_count": 34,
   "id": "22016ce1",
   "metadata": {},
   "outputs": [],
   "source": [
    "# Rescale to 0 to 1"
   ]
  },
  {
   "cell_type": "code",
   "execution_count": 35,
   "id": "682e31ef",
   "metadata": {},
   "outputs": [],
   "source": [
    "X_train = X_train.astype('float32') \n",
    "X_test = X_test.astype('float32')\n",
    "X_train /= 255\n",
    "X_test /= 255"
   ]
  },
  {
   "cell_type": "code",
   "execution_count": 36,
   "id": "129541d1",
   "metadata": {},
   "outputs": [],
   "source": [
    "# Onehot the target"
   ]
  },
  {
   "cell_type": "code",
   "execution_count": 37,
   "id": "9835e5ff",
   "metadata": {},
   "outputs": [],
   "source": [
    "y_train = keras.utils.to_categorical(y_train, num_class)\n",
    "y_test = keras.utils.to_categorical(y_test, num_class)"
   ]
  },
  {
   "cell_type": "code",
   "execution_count": 38,
   "id": "eafcd5e2",
   "metadata": {},
   "outputs": [],
   "source": [
    "# Define Model"
   ]
  },
  {
   "cell_type": "code",
   "execution_count": 42,
   "id": "a1eae2d2",
   "metadata": {},
   "outputs": [],
   "source": [
    "# model = Sequential()\n",
    "# model.add(Conv2D(32, kernel_size = (3,3), padding = 'same' , activation = 'relu', input_shape = input_shape))\n",
    "# # model.add(MaxPooling2D(pool_size = (2,2)))\n",
    "# model.add(Conv2D(64, (3,3), activation = 'relu'))\n",
    "# model.add(MaxPooling2D(pool_size = (2,2)))\n",
    "# model.add(Flatten())\n",
    "# model.add(Dense(128, activation = 'relu'))\n",
    "# model.add(Dropout(0.5))\n",
    "# model.add(Dense(num_class, activation = 'softmax'))"
   ]
  },
  {
   "cell_type": "code",
   "execution_count": 75,
   "id": "337107a2",
   "metadata": {},
   "outputs": [],
   "source": [
    "model = Sequential()\n",
    "model.add(Conv2D(64, (3, 3), padding='same', activation='relu', kernel_initializer='he_uniform', input_shape=(28, 28, 1)))\n",
    "model.add(MaxPooling2D((2, 2)))\n",
    "model.add(Flatten())\n",
    "model.add(Dense(128, activation='relu', kernel_initializer='he_uniform'))\n",
    "model.add(Dropout(0.3))\n",
    "model.add(Dense(10, activation='softmax'))"
   ]
  },
  {
   "cell_type": "code",
   "execution_count": 76,
   "id": "6919391b",
   "metadata": {},
   "outputs": [],
   "source": [
    "# model.compile(loss = keras.losses.categorical_crossentropy, optimizer = keras.optimizers.Adadelta(), metrics = ['accuracy'])"
   ]
  },
  {
   "cell_type": "code",
   "execution_count": 77,
   "id": "35223c60",
   "metadata": {},
   "outputs": [],
   "source": [
    "# Alternative \n",
    "opt = keras.optimizers.SGD(learning_rate=0.01, momentum=0.9)\n",
    "model.compile(optimizer=opt, loss='categorical_crossentropy', metrics=['accuracy'])"
   ]
  },
  {
   "cell_type": "code",
   "execution_count": 45,
   "id": "618e176c",
   "metadata": {},
   "outputs": [
    {
     "data": {
      "text/plain": [
       "(60000, 10)"
      ]
     },
     "execution_count": 45,
     "metadata": {},
     "output_type": "execute_result"
    }
   ],
   "source": [
    "y_train.shape"
   ]
  },
  {
   "cell_type": "code",
   "execution_count": 78,
   "id": "41e774ac",
   "metadata": {
    "scrolled": true
   },
   "outputs": [
    {
     "name": "stdout",
     "output_type": "stream",
     "text": [
      "Epoch 1/15\n",
      "469/469 [==============================] - 28s 59ms/step - loss: 0.5771 - accuracy: 0.7883 - val_loss: 0.4195 - val_accuracy: 0.8477\n",
      "Epoch 2/15\n",
      "469/469 [==============================] - 29s 62ms/step - loss: 0.4044 - accuracy: 0.8557 - val_loss: 0.3630 - val_accuracy: 0.8691\n",
      "Epoch 3/15\n",
      "469/469 [==============================] - 29s 61ms/step - loss: 0.3555 - accuracy: 0.8727 - val_loss: 0.3312 - val_accuracy: 0.8819\n",
      "Epoch 4/15\n",
      "469/469 [==============================] - 30s 63ms/step - loss: 0.3202 - accuracy: 0.8837 - val_loss: 0.3065 - val_accuracy: 0.8865\n",
      "Epoch 5/15\n",
      "469/469 [==============================] - 28s 61ms/step - loss: 0.2970 - accuracy: 0.8927 - val_loss: 0.2938 - val_accuracy: 0.8918\n",
      "Epoch 6/15\n",
      "469/469 [==============================] - 33s 71ms/step - loss: 0.2785 - accuracy: 0.8986 - val_loss: 0.2767 - val_accuracy: 0.8977\n",
      "Epoch 7/15\n",
      "469/469 [==============================] - 32s 68ms/step - loss: 0.2614 - accuracy: 0.9043 - val_loss: 0.2752 - val_accuracy: 0.8991\n",
      "Epoch 8/15\n",
      "469/469 [==============================] - 30s 65ms/step - loss: 0.2492 - accuracy: 0.9085 - val_loss: 0.2719 - val_accuracy: 0.9014\n",
      "Epoch 9/15\n",
      "469/469 [==============================] - 28s 61ms/step - loss: 0.2354 - accuracy: 0.9132 - val_loss: 0.2617 - val_accuracy: 0.9043\n",
      "Epoch 10/15\n",
      "469/469 [==============================] - 27s 57ms/step - loss: 0.2267 - accuracy: 0.9168 - val_loss: 0.2638 - val_accuracy: 0.9028\n",
      "Epoch 11/15\n",
      "469/469 [==============================] - 26s 56ms/step - loss: 0.2147 - accuracy: 0.9220 - val_loss: 0.2531 - val_accuracy: 0.9097\n",
      "Epoch 12/15\n",
      "469/469 [==============================] - 26s 56ms/step - loss: 0.2093 - accuracy: 0.9223 - val_loss: 0.2590 - val_accuracy: 0.9079\n",
      "Epoch 13/15\n",
      "469/469 [==============================] - 26s 55ms/step - loss: 0.1990 - accuracy: 0.9272 - val_loss: 0.2511 - val_accuracy: 0.9087\n",
      "Epoch 14/15\n",
      "469/469 [==============================] - 35s 74ms/step - loss: 0.1900 - accuracy: 0.9308 - val_loss: 0.2492 - val_accuracy: 0.9150\n",
      "Epoch 15/15\n",
      "469/469 [==============================] - 32s 68ms/step - loss: 0.1842 - accuracy: 0.9317 - val_loss: 0.2589 - val_accuracy: 0.9116\n"
     ]
    }
   ],
   "source": [
    "hist = model.fit(X_train, y_train, batch_size = batch_size, epochs = 15, verbose = 1, validation_data = (X_test, y_test))"
   ]
  },
  {
   "cell_type": "code",
   "execution_count": 79,
   "id": "7d44634d",
   "metadata": {},
   "outputs": [
    {
     "name": "stdout",
     "output_type": "stream",
     "text": [
      "Test loss: 0.2588770091533661\n",
      "Test accuracy: 0.9115999937057495\n"
     ]
    }
   ],
   "source": [
    "score = model.evaluate(X_test, y_test, verbose = 0)\n",
    "print('Test loss:', score[0])\n",
    "print('Test accuracy:', score[1])"
   ]
  },
  {
   "cell_type": "code",
   "execution_count": 26,
   "id": "e350edd9",
   "metadata": {},
   "outputs": [
    {
     "data": {
      "text/plain": [
       "(28, 28, 1)"
      ]
     },
     "execution_count": 26,
     "metadata": {},
     "output_type": "execute_result"
    }
   ],
   "source": [
    "input_shape"
   ]
  },
  {
   "cell_type": "code",
   "execution_count": 58,
   "id": "54f2921b",
   "metadata": {
    "scrolled": true
   },
   "outputs": [
    {
     "data": {
      "text/plain": [
       "{'loss': [0.5792005062103271,\n",
       "  0.39999571442604065,\n",
       "  0.35085737705230713,\n",
       "  0.3158182203769684,\n",
       "  0.29385167360305786,\n",
       "  0.27535879611968994,\n",
       "  0.25986310839653015,\n",
       "  0.2472003996372223,\n",
       "  0.23387351632118225,\n",
       "  0.22551006078720093,\n",
       "  0.21626748144626617,\n",
       "  0.20801730453968048],\n",
       " 'accuracy': [0.7894333600997925,\n",
       "  0.8567333221435547,\n",
       "  0.874750018119812,\n",
       "  0.8865666389465332,\n",
       "  0.8936833143234253,\n",
       "  0.8999999761581421,\n",
       "  0.9060999751091003,\n",
       "  0.9101499915122986,\n",
       "  0.9148333072662354,\n",
       "  0.9180999994277954,\n",
       "  0.9216833114624023,\n",
       "  0.9236500263214111],\n",
       " 'val_loss': [0.3958064317703247,\n",
       "  0.3509170413017273,\n",
       "  0.3169567286968231,\n",
       "  0.31480783224105835,\n",
       "  0.290370374917984,\n",
       "  0.2807731330394745,\n",
       "  0.2810490131378174,\n",
       "  0.2650679647922516,\n",
       "  0.2618781328201294,\n",
       "  0.2625995874404907,\n",
       "  0.25463199615478516,\n",
       "  0.2508392632007599],\n",
       " 'val_accuracy': [0.8557000160217285,\n",
       "  0.8734999895095825,\n",
       "  0.8862000107765198,\n",
       "  0.8841000199317932,\n",
       "  0.8902999758720398,\n",
       "  0.8999999761581421,\n",
       "  0.9003999829292297,\n",
       "  0.9017000198364258,\n",
       "  0.902899980545044,\n",
       "  0.9057999849319458,\n",
       "  0.9104999899864197,\n",
       "  0.9118000268936157]}"
      ]
     },
     "execution_count": 58,
     "metadata": {},
     "output_type": "execute_result"
    }
   ],
   "source": [
    "hist.history"
   ]
  },
  {
   "cell_type": "code",
   "execution_count": 80,
   "id": "ce3db76e",
   "metadata": {
    "scrolled": true
   },
   "outputs": [
    {
     "data": {
      "image/png": "[encoded data removed]",
      "text/plain": [
       "<Figure size 432x288 with 1 Axes>"
      ]
     },
     "metadata": {
      "needs_background": "light"
     },
     "output_type": "display_data"
    }
   ],
   "source": [
    "import numpy as np\n",
    "import matplotlib.pyplot as plt\n",
    "\n",
    "epoch_list = list(range(1, len(hist.history['accuracy']) + 1 ))\n",
    "plt.plot(epoch_list, hist.history['accuracy'], epoch_list, hist.history['val_accuracy'])\n",
    "plt.legend(('Training Accuracy', 'Validation Accuracy'))\n",
    "plt.show()"
   ]
  },
  {
   "cell_type": "markdown",
   "id": "f8bb8a9f",
   "metadata": {},
   "source": [
    "# Transfer model"
   ]
  },
  {
   "cell_type": "code",
   "execution_count": 81,
   "id": "e592ed1c",
   "metadata": {},
   "outputs": [],
   "source": [
    "\n",
    "\n",
    "from tensorflow.keras.applications import VGG16\n",
    "\n",
    "from keras.applications.inception_v3 import InceptionV3, preprocess_input\n",
    "from keras.models import Model\n",
    "from keras.layers import Dense, GlobalAveragePooling2D\n",
    "from keras.preprocessing.image import ImageDataGenerator\n",
    "from keras.optimizers import SGD"
   ]
  },
  {
   "cell_type": "code",
   "execution_count": 100,
   "id": "35176ef9",
   "metadata": {},
   "outputs": [],
   "source": [
    "from skimage.transform import resize"
   ]
  },
  {
   "cell_type": "code",
   "execution_count": 101,
   "id": "485f00f3",
   "metadata": {},
   "outputs": [],
   "source": [
    "def resize_all(x, shape = (48,48)):\n",
    "    band_shape = x.shape\n",
    "    x_resize = np.zeros(shape = (band_shape[0],shape[0],shape[1]))\n",
    "    for i in range(band_shape[0]):\n",
    "        x_resize[i] = resize(x[i], shape)\n",
    "    return x_resize"
   ]
  },
  {
   "cell_type": "code",
   "execution_count": 102,
   "id": "5e5a2356",
   "metadata": {},
   "outputs": [],
   "source": [
    "def transform_input_vgg(x):\n",
    "    x_vgg = np.array(x).reshape(-1,28,28)\n",
    "    x_vgg = resize_all(x_vgg, (48,48))\n",
    "    x_vgg = np.repeat(x_vgg[:, :, :, np.newaxis], 3, axis=3)\n",
    "#    x_vgg = preprocess_input(x_vgg)\n",
    "    return x_vgg"
   ]
  },
  {
   "cell_type": "code",
   "execution_count": 103,
   "id": "ceb7c82d",
   "metadata": {},
   "outputs": [],
   "source": [
    "X_train_transformed = transform_input_vgg(X_train)\n",
    "X_test_transformed = transform_input_vgg(X_test)\n"
   ]
  },
  {
   "cell_type": "code",
   "execution_count": null,
   "id": "fcaa211e",
   "metadata": {},
   "outputs": [],
   "source": []
  },
  {
   "cell_type": "code",
   "execution_count": 110,
   "id": "dda50cb2",
   "metadata": {},
   "outputs": [
    {
     "name": "stdout",
     "output_type": "stream",
     "text": [
      "Inception v3 base model without last FC loaded\n",
      "Model: \"model_6\"\n",
      "_________________________________________________________________\n",
      " Layer (type)                Output Shape              Param #   \n",
      "=================================================================\n",
      " input_10 (InputLayer)       [(None, 48, 48, 3)]       0         \n",
      "                                                                 \n",
      " block1_conv1 (Conv2D)       (None, 48, 48, 64)        1792      \n",
      "                                                                 \n",
      " block1_conv2 (Conv2D)       (None, 48, 48, 64)        36928     \n",
      "                                                                 \n",
      " block1_pool (MaxPooling2D)  (None, 24, 24, 64)        0         \n",
      "                                                                 \n",
      " block2_conv1 (Conv2D)       (None, 24, 24, 128)       73856     \n",
      "                                                                 \n",
      " block2_conv2 (Conv2D)       (None, 24, 24, 128)       147584    \n",
      "                                                                 \n",
      " block2_pool (MaxPooling2D)  (None, 12, 12, 128)       0         \n",
      "                                                                 \n",
      " block3_conv1 (Conv2D)       (None, 12, 12, 256)       295168    \n",
      "                                                                 \n",
      " block3_conv2 (Conv2D)       (None, 12, 12, 256)       590080    \n",
      "                                                                 \n",
      " block3_conv3 (Conv2D)       (None, 12, 12, 256)       590080    \n",
      "                                                                 \n",
      " block3_pool (MaxPooling2D)  (None, 6, 6, 256)         0         \n",
      "                                                                 \n",
      " block4_conv1 (Conv2D)       (None, 6, 6, 512)         1180160   \n",
      "                                                                 \n",
      " block4_conv2 (Conv2D)       (None, 6, 6, 512)         2359808   \n",
      "                                                                 \n",
      " block4_conv3 (Conv2D)       (None, 6, 6, 512)         2359808   \n",
      "                                                                 \n",
      " block4_pool (MaxPooling2D)  (None, 3, 3, 512)         0         \n",
      "                                                                 \n",
      " block5_conv1 (Conv2D)       (None, 3, 3, 512)         2359808   \n",
      "                                                                 \n",
      " block5_conv2 (Conv2D)       (None, 3, 3, 512)         2359808   \n",
      "                                                                 \n",
      " block5_conv3 (Conv2D)       (None, 3, 3, 512)         2359808   \n",
      "                                                                 \n",
      " block5_pool (MaxPooling2D)  (None, 1, 1, 512)         0         \n",
      "                                                                 \n",
      " global_average_pooling2d_7   (None, 512)              0         \n",
      " (GlobalAveragePooling2D)                                        \n",
      "                                                                 \n",
      " dense_29 (Dense)            (None, 128)               65664     \n",
      "                                                                 \n",
      " dense_30 (Dense)            (None, 10)                1290      \n",
      "                                                                 \n",
      "=================================================================\n",
      "Total params: 14,781,642\n",
      "Trainable params: 66,954\n",
      "Non-trainable params: 14,714,688\n",
      "_________________________________________________________________\n",
      "None\n",
      "\n",
      "Performing Transfer Learning\n",
      "Epoch 1/15\n",
      "469/469 [==============================] - 514s 1s/step - loss: 0.5938 - accuracy: 0.8001 - val_loss: 0.4386 - val_accuracy: 0.8452\n",
      "Epoch 2/15\n",
      "469/469 [==============================] - 521s 1s/step - loss: 0.4033 - accuracy: 0.8551 - val_loss: 0.4103 - val_accuracy: 0.8534\n",
      "Epoch 3/15\n",
      "469/469 [==============================] - 541s 1s/step - loss: 0.3731 - accuracy: 0.8647 - val_loss: 0.3940 - val_accuracy: 0.8594\n",
      "Epoch 4/15\n",
      "469/469 [==============================] - 553s 1s/step - loss: 0.3539 - accuracy: 0.8720 - val_loss: 0.3806 - val_accuracy: 0.8658\n",
      "Epoch 5/15\n",
      "469/469 [==============================] - 559s 1s/step - loss: 0.3401 - accuracy: 0.8776 - val_loss: 0.3759 - val_accuracy: 0.8674\n",
      "Epoch 6/15\n",
      "469/469 [==============================] - 551s 1s/step - loss: 0.3276 - accuracy: 0.8812 - val_loss: 0.3745 - val_accuracy: 0.8665\n",
      "Epoch 7/15\n",
      "469/469 [==============================] - 572s 1s/step - loss: 0.3176 - accuracy: 0.8847 - val_loss: 0.3639 - val_accuracy: 0.8697\n",
      "Epoch 8/15\n",
      "469/469 [==============================] - 578s 1s/step - loss: 0.3091 - accuracy: 0.8882 - val_loss: 0.3576 - val_accuracy: 0.8728\n",
      "Epoch 9/15\n",
      "469/469 [==============================] - 522s 1s/step - loss: 0.3015 - accuracy: 0.8896 - val_loss: 0.3589 - val_accuracy: 0.8714\n",
      "Epoch 10/15\n",
      "469/469 [==============================] - 540s 1s/step - loss: 0.2928 - accuracy: 0.8932 - val_loss: 0.3529 - val_accuracy: 0.8776\n",
      "Epoch 11/15\n",
      "469/469 [==============================] - 509s 1s/step - loss: 0.2866 - accuracy: 0.8950 - val_loss: 0.3489 - val_accuracy: 0.8770\n",
      "Epoch 12/15\n",
      "469/469 [==============================] - 510s 1s/step - loss: 0.2795 - accuracy: 0.8972 - val_loss: 0.3420 - val_accuracy: 0.8797\n",
      "Epoch 13/15\n",
      "469/469 [==============================] - 508s 1s/step - loss: 0.2732 - accuracy: 0.8996 - val_loss: 0.3489 - val_accuracy: 0.8786\n",
      "Epoch 14/15\n",
      "469/469 [==============================] - 546s 1s/step - loss: 0.2675 - accuracy: 0.9013 - val_loss: 0.3459 - val_accuracy: 0.8795\n",
      "Epoch 15/15\n",
      "469/469 [==============================] - 583s 1s/step - loss: 0.2616 - accuracy: 0.9043 - val_loss: 0.3509 - val_accuracy: 0.8788\n"
     ]
    }
   ],
   "source": [
    "vgg_conv = VGG16(weights= 'imagenet' , include_top=False, input_shape=(48, 48, 3))\n",
    "\n",
    "vgg_conv.trainable = False\n",
    "\n",
    "# InceptionV3_base_model = InceptionV3(weights='imagenet', include_top=False ) #include_top=False excludes final FC layer\n",
    "print('Inception v3 base model without last FC loaded')\n",
    "#print(InceptionV3_base_model.summary())     # display the Inception V3 model hierarchy\n",
    "\n",
    "# Define the layers in the new classification prediction \n",
    "x = vgg_conv.output\n",
    "x = GlobalAveragePooling2D()(x)\n",
    "x = Dense(128, activation='relu')(x)        # new FC layer, random init\n",
    "predictions = Dense(num_class, activation='softmax')(x)  # new softmax layer\n",
    "\n",
    "# Define trainable model which links input from the Inception V3 base model to the new classification prediction layers\n",
    "model = Model(inputs=vgg_conv.input, outputs=predictions)\n",
    "\n",
    "# print model structure diagram\n",
    "print (model.summary())\n",
    "\n",
    "# Option 1: Basic Transfer Learning\n",
    "print ('\\nPerforming Transfer Learning')\n",
    "  #   Freeze all layers in the Inception V3 base model \n",
    "for layer in vgg_conv.layers:\n",
    "    layer.trainable = False\n",
    "#   Define model compile for basic Transfer Learning\n",
    "model.compile(optimizer='adam', loss='categorical_crossentropy', metrics=['accuracy'])\n",
    "\n",
    "# Fit the transfer learning model to the data from the generators.  \n",
    "# By using generators we can ask continue to request sample images and the generators will pull images from \n",
    "# the taraining or validation folders and alter them slightly\n",
    "hist = model.fit(X_train_transformed, y_train, batch_size = batch_size, epochs = 15, verbose = 1, validation_data = (X_test_transformed, y_test))\n",
    "\n",
    "# Save transfer learning model\n",
    "# model.save('inceptionv3-transfer-learning.model')"
   ]
  },
  {
   "cell_type": "code",
   "execution_count": 112,
   "id": "2805344d",
   "metadata": {},
   "outputs": [
    {
     "name": "stdout",
     "output_type": "stream",
     "text": [
      "Test loss: 0.3508709669113159\n",
      "Test accuracy: 0.8787999749183655\n"
     ]
    }
   ],
   "source": [
    "score = model.evaluate(X_test_transformed, y_test, verbose = 0)\n",
    "print('Test loss:', score[0])\n",
    "print('Test accuracy:', score[1])"
   ]
  },
  {
   "cell_type": "code",
   "execution_count": 113,
   "id": "2761737b",
   "metadata": {},
   "outputs": [
    {
     "data": {
      "image/png": "[encoded data removed]",
      "text/plain": [
       "<Figure size 432x288 with 1 Axes>"
      ]
     },
     "metadata": {
      "needs_background": "light"
     },
     "output_type": "display_data"
    }
   ],
   "source": [
    "import numpy as np\n",
    "import matplotlib.pyplot as plt\n",
    "\n",
    "epoch_list = list(range(1, len(hist.history['accuracy']) + 1 ))\n",
    "plt.plot(epoch_list, hist.history['accuracy'], epoch_list, hist.history['val_accuracy'])\n",
    "plt.legend(('Training Accuracy', 'Validation Accuracy'))\n",
    "plt.show()"
   ]
  },
  {
   "cell_type": "code",
   "execution_count": null,
   "id": "8ad4c80f",
   "metadata": {},
   "outputs": [],
   "source": []
  },
  {
   "cell_type": "code",
   "execution_count": null,
   "id": "25a7f8df",
   "metadata": {},
   "outputs": [],
   "source": []
  },
  {
   "cell_type": "code",
   "execution_count": null,
   "id": "2820d6cb",
   "metadata": {},
   "outputs": [],
   "source": []
  }
 ],
 "metadata": {
  "kernelspec": {
   "display_name": "Python 3 (ipykernel)",
   "language": "python",
   "name": "python3"
  },
  "language_info": {
   "codemirror_mode": {
    "name": "ipython",
    "version": 3
   },
   "file_extension": ".py",
   "mimetype": "text/x-python",
   "name": "python",
   "nbconvert_exporter": "python",
   "pygments_lexer": "ipython3",
   "version": "3.9.12"
  },
  "toc": {
   "base_numbering": 1,
   "nav_menu": {},
   "number_sections": true,
   "sideBar": true,
   "skip_h1_title": false,
   "title_cell": "Table of Contents",
   "title_sidebar": "Contents",
   "toc_cell": false,
   "toc_position": {
    "height": "calc(100% - 180px)",
    "left": "10px",
    "top": "150px",
    "width": "308.391px"
   },
   "toc_section_display": true,
   "toc_window_display": true
  }
 },
 "nbformat": 4,
 "nbformat_minor": 5
}
